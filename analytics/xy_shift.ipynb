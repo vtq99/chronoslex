{
 "cells": [
  {
   "cell_type": "code",
   "execution_count": 1,
   "metadata": {
    "collapsed": true,
    "ExecuteTime": {
     "end_time": "2023-11-23T17:57:24.650778Z",
     "start_time": "2023-11-23T17:57:18.295047Z"
    }
   },
   "outputs": [],
   "source": [
    "import os\n",
    "import pickle\n",
    "import math\n",
    "import numpy as np\n",
    "import pandas as pd\n",
    "import torch\n",
    "from torch.utils.data import Dataset"
   ]
  },
  {
   "cell_type": "code",
   "execution_count": 2,
   "outputs": [],
   "source": [
    "config = {\n",
    "    'dataset': 'uklex18', # choices=['uklex18', 'uklex69', 'eurlex21', 'eurlex127', 'ecthr_a', 'ecthr_b']\n",
    "    'method': 'erm', # choices=['erm', 'ewc', 'er', 'agem', 'lora', 'adapter', 'coral', 'irm', 'groupdro']\n",
    "    'device': 0,  # 'gpu id'\n",
    "    'random_seed': 1,  # 'random seed number'\n",
    "\n",
    "    # Logging, saving, and testing options\n",
    "    'data_dir': './data',  # 'directory for datasets.'\n",
    "    'log_dir': './checkpoints',  # 'directory for summaries and checkpoints.'\n",
    "    'results_dir': './results',  # 'directory for summaries and checkpoints.'\n",
    "    'num_workers': 0  # 'number of workers in data generator'\n",
    "}\n",
    "from munch import DefaultMunch\n",
    "args = DefaultMunch.fromDict(config)"
   ],
   "metadata": {
    "collapsed": false,
    "ExecuteTime": {
     "end_time": "2023-11-23T17:57:24.711050Z",
     "start_time": "2023-11-23T17:57:24.651593Z"
    }
   }
  },
  {
   "cell_type": "code",
   "execution_count": 23,
   "outputs": [],
   "source": [
    "PREPROCESSED_FILE = 'uklex18.pkl'\n",
    "MAX_TOKEN_LENGTH = 512\n",
    "RAW_DATA_FILE = 'uk-lex18.jsonl'\n",
    "ID_HELD_OUT = 0.2\n",
    "GROUP = 7"
   ],
   "metadata": {
    "collapsed": false,
    "ExecuteTime": {
     "end_time": "2023-11-23T18:09:08.310680Z",
     "start_time": "2023-11-23T18:09:08.306730Z"
    }
   }
  },
  {
   "cell_type": "code",
   "execution_count": 24,
   "outputs": [
    {
     "data": {
      "text/plain": "                 id  year                       labels  \\\n0      UKSI19750515  1975            [SOCIAL SECURITY]   \n1      UKSI19761267  1976            [SOCIAL SECURITY]   \n2      UKSI19760965  1976            [SOCIAL SECURITY]   \n3      UKSI19790628  1979            [SOCIAL SECURITY]   \n4      UKSI19821163  1982             [TRANSPORTATION]   \n...             ...   ...                          ...   \n36450  UKSI20180626  2018            [SOCIAL SECURITY]   \n36449  UKSI20180431  2018                [HEALTH CARE]   \n36448  UKSI20180061  2018            [SOCIAL SECURITY]   \n36454  UKSI20180221  2018                    [HOUSING]   \n36499  UKSI20180153  2018  [IMMIGRATION & CITIZENSHIP]   \n\n                                                   title  \\\n0      The Social Security (Guardian's Allowances) Re...   \n1      The Child Benefit and Social Security (Fixing ...   \n2           The Child Benefit (General) Regulations 1976   \n3      The Social Security (Claims and Payments) Regu...   \n4      The Motorways Traffic (England and Wales) Regu...   \n...                                                  ...   \n36450  The Scotland Act 1998 (Agency Arrangements) (S...   \n36449  The Plymouth Hospitals National Health Service...   \n36448  The Social Fund Funeral Expenses Amendment Reg...   \n36454  The Licensing of Houses in Multiple Occupation...   \n36499  The Transfer of Responsibility for Relevant Ch...   \n\n                                                    body data_type  \n0      Citation, commencement and interpretation\\n1 1...     train  \n1      Citation, commencement and interpretation\\n1 1...     train  \n2      PART I\\nGeneral\\nCitation, commencement and in...     train  \n3      P art I\\nGENERAL\\nCitation and commencement\\n1...     train  \n4      Commencement and citation\\n1\\nThese Regulation...     train  \n...                                                  ...       ...  \n36450  Citation\\n1\\nThis Order may be cited as the Sc...      test  \n36449  Citation, commencement and interpretation\\n1\\n...      test  \n36448  Citation and commencement\\n1\\nThese Regulation...      test  \n36454  Citation and Commencement\\n1\\n1\\nThis Order ma...      test  \n36499  Citation and commencement\\n1\\nThese Regulation...      test  \n\n[36500 rows x 6 columns]",
      "text/html": "<div>\n<style scoped>\n    .dataframe tbody tr th:only-of-type {\n        vertical-align: middle;\n    }\n\n    .dataframe tbody tr th {\n        vertical-align: top;\n    }\n\n    .dataframe thead th {\n        text-align: right;\n    }\n</style>\n<table border=\"1\" class=\"dataframe\">\n  <thead>\n    <tr style=\"text-align: right;\">\n      <th></th>\n      <th>id</th>\n      <th>year</th>\n      <th>labels</th>\n      <th>title</th>\n      <th>body</th>\n      <th>data_type</th>\n    </tr>\n  </thead>\n  <tbody>\n    <tr>\n      <th>0</th>\n      <td>UKSI19750515</td>\n      <td>1975</td>\n      <td>[SOCIAL SECURITY]</td>\n      <td>The Social Security (Guardian's Allowances) Re...</td>\n      <td>Citation, commencement and interpretation\\n1 1...</td>\n      <td>train</td>\n    </tr>\n    <tr>\n      <th>1</th>\n      <td>UKSI19761267</td>\n      <td>1976</td>\n      <td>[SOCIAL SECURITY]</td>\n      <td>The Child Benefit and Social Security (Fixing ...</td>\n      <td>Citation, commencement and interpretation\\n1 1...</td>\n      <td>train</td>\n    </tr>\n    <tr>\n      <th>2</th>\n      <td>UKSI19760965</td>\n      <td>1976</td>\n      <td>[SOCIAL SECURITY]</td>\n      <td>The Child Benefit (General) Regulations 1976</td>\n      <td>PART I\\nGeneral\\nCitation, commencement and in...</td>\n      <td>train</td>\n    </tr>\n    <tr>\n      <th>3</th>\n      <td>UKSI19790628</td>\n      <td>1979</td>\n      <td>[SOCIAL SECURITY]</td>\n      <td>The Social Security (Claims and Payments) Regu...</td>\n      <td>P art I\\nGENERAL\\nCitation and commencement\\n1...</td>\n      <td>train</td>\n    </tr>\n    <tr>\n      <th>4</th>\n      <td>UKSI19821163</td>\n      <td>1982</td>\n      <td>[TRANSPORTATION]</td>\n      <td>The Motorways Traffic (England and Wales) Regu...</td>\n      <td>Commencement and citation\\n1\\nThese Regulation...</td>\n      <td>train</td>\n    </tr>\n    <tr>\n      <th>...</th>\n      <td>...</td>\n      <td>...</td>\n      <td>...</td>\n      <td>...</td>\n      <td>...</td>\n      <td>...</td>\n    </tr>\n    <tr>\n      <th>36450</th>\n      <td>UKSI20180626</td>\n      <td>2018</td>\n      <td>[SOCIAL SECURITY]</td>\n      <td>The Scotland Act 1998 (Agency Arrangements) (S...</td>\n      <td>Citation\\n1\\nThis Order may be cited as the Sc...</td>\n      <td>test</td>\n    </tr>\n    <tr>\n      <th>36449</th>\n      <td>UKSI20180431</td>\n      <td>2018</td>\n      <td>[HEALTH CARE]</td>\n      <td>The Plymouth Hospitals National Health Service...</td>\n      <td>Citation, commencement and interpretation\\n1\\n...</td>\n      <td>test</td>\n    </tr>\n    <tr>\n      <th>36448</th>\n      <td>UKSI20180061</td>\n      <td>2018</td>\n      <td>[SOCIAL SECURITY]</td>\n      <td>The Social Fund Funeral Expenses Amendment Reg...</td>\n      <td>Citation and commencement\\n1\\nThese Regulation...</td>\n      <td>test</td>\n    </tr>\n    <tr>\n      <th>36454</th>\n      <td>UKSI20180221</td>\n      <td>2018</td>\n      <td>[HOUSING]</td>\n      <td>The Licensing of Houses in Multiple Occupation...</td>\n      <td>Citation and Commencement\\n1\\n1\\nThis Order ma...</td>\n      <td>test</td>\n    </tr>\n    <tr>\n      <th>36499</th>\n      <td>UKSI20180153</td>\n      <td>2018</td>\n      <td>[IMMIGRATION &amp; CITIZENSHIP]</td>\n      <td>The Transfer of Responsibility for Relevant Ch...</td>\n      <td>Citation and commencement\\n1\\nThese Regulation...</td>\n      <td>test</td>\n    </tr>\n  </tbody>\n</table>\n<p>36500 rows × 6 columns</p>\n</div>"
     },
     "execution_count": 24,
     "metadata": {},
     "output_type": "execute_result"
    }
   ],
   "source": [
    "raw_data_path = os.path.join(args.data_dir, RAW_DATA_FILE)\n",
    "if not os.path.isfile(raw_data_path):\n",
    "    raise ValueError(f'{RAW_DATA_FILE} is not in the data directory {args.data_dir}!')\n",
    "\n",
    "# Load data frame from json file, group by year\n",
    "base_df = pd.read_json(raw_data_path, lines=True)\n",
    "base_df = base_df.sort_values(by=['year'])\n",
    "base_df"
   ],
   "metadata": {
    "collapsed": false,
    "ExecuteTime": {
     "end_time": "2023-11-23T18:09:11.543269Z",
     "start_time": "2023-11-23T18:09:09.429487Z"
    }
   }
  },
  {
   "cell_type": "code",
   "execution_count": 25,
   "outputs": [],
   "source": [
    "df_years = base_df.groupby(pd.Grouper(key='data_type'))\n",
    "all_dfs = [group for _, group in df_years]\n",
    "# all_years = list(base_df['data_type'].unique())\n",
    "all_dfs = [all_dfs[0][:10000], all_dfs[0][10000:], all_dfs[1], all_dfs[2]]\n",
    "\n",
    "categories_to_classids = {category: classid for classid, category in\n",
    "                              enumerate(sorted(list(set([i for sublist in base_df['labels'] for i in sublist]))))}\n",
    "classids_to_categories = {v: k for k, v in categories_to_classids.items()}\n"
   ],
   "metadata": {
    "collapsed": false,
    "ExecuteTime": {
     "end_time": "2023-11-23T18:09:13.665641Z",
     "start_time": "2023-11-23T18:09:13.541754Z"
    }
   }
  },
  {
   "cell_type": "code",
   "execution_count": 26,
   "outputs": [
    {
     "data": {
      "text/plain": "{0: 'AGRICULTURE & FOOD',\n 1: 'CHILDREN',\n 2: 'CRIMINAL LAW',\n 3: 'EDUCATION',\n 4: 'ENVIRONMENT',\n 5: 'EU',\n 6: 'FINANCE',\n 7: 'HEALTH CARE',\n 8: 'HOUSING',\n 9: 'IMMIGRATION & CITIZENSHIP',\n 10: 'LOCAL GOVERNMENT',\n 11: 'PLANNING & DEVELOPMENT',\n 12: 'POLITICS',\n 13: 'PUBLIC ORDER',\n 14: 'SOCIAL SECURITY',\n 15: 'TAXATION',\n 16: 'TELECOMMUNICATIONS',\n 17: 'TRANSPORTATION'}"
     },
     "execution_count": 26,
     "metadata": {},
     "output_type": "execute_result"
    }
   ],
   "source": [
    "classids_to_categories"
   ],
   "metadata": {
    "collapsed": false,
    "ExecuteTime": {
     "end_time": "2023-11-23T18:09:16.637367Z",
     "start_time": "2023-11-23T18:09:16.632338Z"
    }
   }
  },
  {
   "cell_type": "code",
   "execution_count": 32,
   "outputs": [],
   "source": [
    "for i in range(4):\n",
    "    keep = []\n",
    "    for j in range(len(dfs[i])):\n",
    "        if classids_to_categories[1] in dfs[i].iloc[j, 2]:\n",
    "            keep.append(j)\n",
    "    dfs[i] = dfs[i].iloc[keep, :]"
   ],
   "metadata": {
    "collapsed": false,
    "ExecuteTime": {
     "end_time": "2023-11-03T15:28:56.887948Z",
     "start_time": "2023-11-03T15:28:56.358777Z"
    }
   }
  },
  {
   "cell_type": "code",
   "execution_count": 53,
   "outputs": [
    {
     "data": {
      "text/plain": "3"
     },
     "execution_count": 53,
     "metadata": {},
     "output_type": "execute_result"
    }
   ],
   "source": [
    "len(dfs)"
   ],
   "metadata": {
    "collapsed": false,
    "ExecuteTime": {
     "end_time": "2023-11-15T16:14:45.820852Z",
     "start_time": "2023-11-15T16:14:45.812253Z"
    }
   }
  },
  {
   "cell_type": "code",
   "execution_count": 7,
   "outputs": [
    {
     "name": "stderr",
     "output_type": "stream",
     "text": [
      "[nltk_data] Downloading package stopwords to /Users/luke/nltk_data...\n",
      "[nltk_data]   Package stopwords is already up-to-date!\n",
      "[nltk_data] Downloading package punkt to /Users/luke/nltk_data...\n",
      "[nltk_data]   Package punkt is already up-to-date!\n"
     ]
    }
   ],
   "source": [
    "import nltk\n",
    "import string\n",
    "nltk.download('stopwords')\n",
    "from nltk.corpus import stopwords\n",
    "remove_these = set(stopwords.words('english') + list(string.punctuation) + list(string.digits))\n",
    "from nltk.tokenize import RegexpTokenizer\n",
    "nltk.download('punkt')\n",
    "tokenizer = RegexpTokenizer(r'\\w+')"
   ],
   "metadata": {
    "collapsed": false,
    "ExecuteTime": {
     "end_time": "2023-11-23T17:58:13.916053Z",
     "start_time": "2023-11-23T17:58:07.398668Z"
    }
   }
  },
  {
   "cell_type": "code",
   "execution_count": 8,
   "outputs": [],
   "source": [
    "import numpy as np\n",
    "import pandas as pd\n",
    "from collections import Counter\n",
    "import collections\n",
    "import ast"
   ],
   "metadata": {
    "collapsed": false,
    "ExecuteTime": {
     "end_time": "2023-11-23T17:58:13.928866Z",
     "start_time": "2023-11-23T17:58:13.917232Z"
    }
   }
  },
  {
   "cell_type": "markdown",
   "source": [],
   "metadata": {
    "collapsed": false
   }
  },
  {
   "cell_type": "code",
   "execution_count": 9,
   "outputs": [],
   "source": [
    "# labels_counts = {}\n",
    "# for i in range(4):\n",
    "#     dfs[i]['tokenized'] = dfs[i]['body'].apply(tokenizer.tokenize)\n",
    "#     labels = [label for lbs in dfs[i]['tokenized'] for label in lbs]\n",
    "#     all_labels = [w for w in labels if not w in remove_these]\n",
    "#     labels_count = Counter(all_labels)\n",
    "#     labels_counts[i+1] = labels_count\n",
    "\n",
    "\n",
    "def jaccard_set(list1, list2):\n",
    "    \"\"\"Define Jaccard Similarity function for two sets\"\"\"\n",
    "    intersection = len(list(set(list1).intersection(list2)))\n",
    "    union = (len(list1) + len(list2)) - intersection\n",
    "    return float(intersection) / union\n",
    "\n",
    "# mat = []\n",
    "# for k1, p in labels_counts.items():\n",
    "#     sub = []\n",
    "#     for k2, q in labels_counts.items():\n",
    "#         kl_pq = jaccard_set(p.keys(), q.keys())\n",
    "#         sub.append(kl_pq)\n",
    "#     mat.append(sub)\n",
    "# np.round(mat, 4)"
   ],
   "metadata": {
    "collapsed": false,
    "ExecuteTime": {
     "end_time": "2023-11-23T17:58:34.587647Z",
     "start_time": "2023-11-23T17:58:34.584144Z"
    }
   }
  },
  {
   "cell_type": "code",
   "execution_count": 11,
   "outputs": [],
   "source": [
    "# allowed = labels_counts[1].keys() & labels_counts[2].keys() & labels_counts[3].keys() & labels_counts[4].keys()\n",
    "#\n",
    "# for i in range(4):\n",
    "#     entries_to_remove = labels_counts[i+1].keys() - allowed\n",
    "#     for k in entries_to_remove:\n",
    "#         labels_counts[i+1].pop(k, None)\n",
    "#     od = collections.OrderedDict(sorted(labels_counts[i+1].items()))\n",
    "#     labels_counts[i+1] = list(od.values())\n",
    "\n",
    "from math import log2\n",
    "from scipy.special import rel_entr, kl_div\n",
    "# calculate the jensen-shannon distance metric\n",
    "from scipy.spatial.distance import jensenshannon\n",
    "import numpy as np\n",
    "\n",
    "# calculate the kl divergence\n",
    "def kl_divergence(p, q):\n",
    "\treturn sum(p[i] * log2(p[i]/q[i]) for i in range(len(p)))\n",
    "#\n",
    "# mat = []\n",
    "# for k1, p in labels_counts.items():\n",
    "#     sub = []\n",
    "#     for k2, q in labels_counts.items():\n",
    "#         # print('P =', k1, ', Q =', k2)\n",
    "#         # calculate (P || Q)\n",
    "#         p = np.asarray(p)\n",
    "#         q = np.asarray(q)\n",
    "#         kl_pq = jensenshannon(p, q, base=2)\n",
    "#         sub.append(kl_pq)\n",
    "#         # print('KL(P|Q): %.3f' % kl_pq)\n",
    "#         # # calculate (Q || P)\n",
    "#         # kl_qp = rel_entr(q, p)\n",
    "#         # print('KL(Q || P): %.3f bits' % sum(kl_pq))\n",
    "#     mat.append(sub)\n",
    "# np.round(mat, 4)"
   ],
   "metadata": {
    "collapsed": false,
    "ExecuteTime": {
     "end_time": "2023-11-23T18:00:11.627214Z",
     "start_time": "2023-11-23T18:00:11.621775Z"
    }
   }
  },
  {
   "cell_type": "code",
   "execution_count": 30,
   "outputs": [
    {
     "data": {
      "text/plain": "<Figure size 640x480 with 1 Axes>",
      "image/png": "[encoded data removed]"
     },
     "metadata": {},
     "output_type": "display_data"
    }
   ],
   "source": [
    "import matplotlib.pyplot as plt\n",
    "\n",
    "for k, v in labels_counts.items():\n",
    "    plt.plot(range(0, len(v)), v, '.-', label=k)\n",
    "    # NOTE: changed `range(1, 4)` to mach actual values count\n",
    "plt.legend()  # To draw legend\n",
    "plt.show()"
   ],
   "metadata": {
    "collapsed": false,
    "ExecuteTime": {
     "end_time": "2023-11-03T15:27:34.355935Z",
     "start_time": "2023-11-03T15:27:34.113458Z"
    }
   }
  },
  {
   "cell_type": "code",
   "execution_count": 28,
   "outputs": [
    {
     "name": "stdout",
     "output_type": "stream",
     "text": [
      "AGRICULTURE & FOOD\n",
      "CHILDREN\n",
      "CRIMINAL LAW\n",
      "EDUCATION\n",
      "ENVIRONMENT\n",
      "EU\n",
      "FINANCE\n",
      "HEALTH CARE\n",
      "HOUSING\n",
      "IMMIGRATION & CITIZENSHIP\n",
      "LOCAL GOVERNMENT\n",
      "PLANNING & DEVELOPMENT\n",
      "POLITICS\n",
      "PUBLIC ORDER\n",
      "SOCIAL SECURITY\n",
      "TAXATION\n",
      "TELECOMMUNICATIONS\n",
      "TRANSPORTATION\n"
     ]
    }
   ],
   "source": [
    "m = None\n",
    "n = None\n",
    "for l in range(18):\n",
    "    print(classids_to_categories[l])\n",
    "    dfs = [i.copy() for i in all_dfs]\n",
    "    for i in range(4):\n",
    "        keep = []\n",
    "        for j in range(len(dfs[i])):\n",
    "            if classids_to_categories[l] in dfs[i].iloc[j, 2]:\n",
    "                keep.append(j)\n",
    "        if len(keep) == 0:\n",
    "            keep = [0]\n",
    "        dfs[i] = dfs[i].iloc[keep, :]\n",
    "\n",
    "    labels_counts = {}\n",
    "    for i in range(4):\n",
    "        dfs[i]['tokenized'] = dfs[i]['body'].apply(tokenizer.tokenize)\n",
    "        labels = [label for lbs in dfs[i]['tokenized'] for label in lbs]\n",
    "        all_labels = [w for w in labels if not w in remove_these]\n",
    "        labels_count = Counter(all_labels)\n",
    "        labels_counts[i+1] = labels_count\n",
    "\n",
    "    mat = []\n",
    "    for k1, p in labels_counts.items():\n",
    "        sub = []\n",
    "        for k2, q in labels_counts.items():\n",
    "            kl_pq = jaccard_set(p.keys(), q.keys())\n",
    "            sub.append(kl_pq)\n",
    "        mat.append(sub)\n",
    "    if m is None:\n",
    "        m = np.round(mat, 4)\n",
    "    else:\n",
    "        m = np.concatenate((m, np.round(mat, 4)), axis=0)\n",
    "\n",
    "    allowed = labels_counts[1].keys() & labels_counts[2].keys() & labels_counts[3].keys() & labels_counts[4].keys()\n",
    "\n",
    "    for i in range(4):\n",
    "        entries_to_remove = labels_counts[i+1].keys() - allowed\n",
    "        for k in entries_to_remove:\n",
    "            labels_counts[i+1].pop(k, None)\n",
    "        od = collections.OrderedDict(sorted(labels_counts[i+1].items()))\n",
    "        labels_counts[i+1] = list(od.values())\n",
    "\n",
    "    mat = []\n",
    "    for k1, p in labels_counts.items():\n",
    "        sub = []\n",
    "        for k2, q in labels_counts.items():\n",
    "            p = np.asarray(p)\n",
    "            q = np.asarray(q)\n",
    "            kl_pq = jensenshannon(p, q, base=2)\n",
    "            sub.append(kl_pq)\n",
    "        mat.append(sub)\n",
    "\n",
    "    if n is None:\n",
    "        n = np.round(mat, 4)\n",
    "    else:\n",
    "        n = np.concatenate((n, np.round(mat, 4)), axis=0)"
   ],
   "metadata": {
    "collapsed": false,
    "ExecuteTime": {
     "end_time": "2023-11-23T18:10:50.330721Z",
     "start_time": "2023-11-23T18:10:16.184003Z"
    }
   }
  },
  {
   "cell_type": "code",
   "execution_count": 30,
   "outputs": [
    {
     "data": {
      "text/plain": "array([[0.    , 0.2573, 0.3261, 0.3759],\n       [0.2573, 0.    , 0.2462, 0.3356],\n       [0.3261, 0.2462, 0.    , 0.264 ],\n       [0.3759, 0.3356, 0.264 , 0.    ],\n       [0.    , 0.2459, 0.2995, 0.3504],\n       [0.2459, 0.    , 0.2592, 0.3128],\n       [0.2995, 0.2592, 0.    , 0.2362],\n       [0.3504, 0.3128, 0.2362, 0.    ],\n       [0.    , 0.2933, 0.3648, 0.4528],\n       [0.2933, 0.    , 0.2918, 0.427 ],\n       [0.3648, 0.2918, 0.    , 0.3655],\n       [0.4528, 0.427 , 0.3655, 0.    ],\n       [0.    , 0.2282, 0.3036, 0.3461],\n       [0.2282, 0.    , 0.2306, 0.3085],\n       [0.3036, 0.2306, 0.    , 0.231 ],\n       [0.3461, 0.3085, 0.231 , 0.    ],\n       [0.    , 0.2907, 0.3637, 0.4043],\n       [0.2907, 0.    , 0.2521, 0.3495],\n       [0.3637, 0.2521, 0.    , 0.271 ],\n       [0.4043, 0.3495, 0.271 , 0.    ],\n       [0.    , 0.3118, 0.3449, 0.3797],\n       [0.3118, 0.    , 0.2526, 0.3073],\n       [0.3449, 0.2526, 0.    , 0.2712],\n       [0.3797, 0.3073, 0.2712, 0.    ],\n       [0.    , 0.344 , 0.3602, 0.3807],\n       [0.344 , 0.    , 0.2528, 0.3117],\n       [0.3602, 0.2528, 0.    , 0.2827],\n       [0.3807, 0.3117, 0.2827, 0.    ],\n       [0.    , 0.2456, 0.3376, 0.3971],\n       [0.2456, 0.    , 0.2499, 0.3343],\n       [0.3376, 0.2499, 0.    , 0.2471],\n       [0.3971, 0.3343, 0.2471, 0.    ],\n       [0.    , 0.2352, 0.302 , 0.3532],\n       [0.2352, 0.    , 0.2563, 0.3265],\n       [0.302 , 0.2563, 0.    , 0.2679],\n       [0.3532, 0.3265, 0.2679, 0.    ],\n       [0.    , 0.3372, 0.3555, 0.4207],\n       [0.3372, 0.    , 0.2493, 0.3457],\n       [0.3555, 0.2493, 0.    , 0.2811],\n       [0.4207, 0.3457, 0.2811, 0.    ],\n       [0.    , 0.3118, 0.3531, 0.3924],\n       [0.3118, 0.    , 0.258 , 0.3239],\n       [0.3531, 0.258 , 0.    , 0.2829],\n       [0.3924, 0.3239, 0.2829, 0.    ],\n       [0.    , 0.2596, 0.2941, 0.3814],\n       [0.2596, 0.    , 0.2421, 0.3118],\n       [0.2941, 0.2421, 0.    , 0.2898],\n       [0.3814, 0.3118, 0.2898, 0.    ],\n       [0.    , 0.3627, 0.411 , 0.4198],\n       [0.3627, 0.    , 0.2993, 0.2683],\n       [0.411 , 0.2993, 0.    , 0.3449],\n       [0.4198, 0.2683, 0.3449, 0.    ],\n       [0.    , 0.3243, 0.3311, 0.3915],\n       [0.3243, 0.    , 0.2431, 0.2966],\n       [0.3311, 0.2431, 0.    , 0.2275],\n       [0.3915, 0.2966, 0.2275, 0.    ],\n       [0.    , 0.1956, 0.2469, 0.318 ],\n       [0.1956, 0.    , 0.2024, 0.2723],\n       [0.2469, 0.2024, 0.    , 0.2295],\n       [0.318 , 0.2723, 0.2295, 0.    ],\n       [0.    , 0.2755, 0.2871, 0.3223],\n       [0.2755, 0.    , 0.2934, 0.3397],\n       [0.2871, 0.2934, 0.    , 0.2202],\n       [0.3223, 0.3397, 0.2202, 0.    ],\n       [0.    , 0.3554, 0.4462, 0.467 ],\n       [0.3554, 0.    , 0.4074, 0.4426],\n       [0.4462, 0.4074, 0.    , 0.2542],\n       [0.467 , 0.4426, 0.2542, 0.    ],\n       [0.    , 0.2662, 0.2888, 0.3512],\n       [0.2662, 0.    , 0.2488, 0.296 ],\n       [0.2888, 0.2488, 0.    , 0.1985],\n       [0.3512, 0.296 , 0.1985, 0.    ]])"
     },
     "execution_count": 30,
     "metadata": {},
     "output_type": "execute_result"
    }
   ],
   "source": [
    "n"
   ],
   "metadata": {
    "collapsed": false,
    "ExecuteTime": {
     "end_time": "2023-11-23T18:11:59.267626Z",
     "start_time": "2023-11-23T18:11:59.261311Z"
    }
   }
  },
  {
   "cell_type": "markdown",
   "source": [
    "# ECTHR"
   ],
   "metadata": {
    "collapsed": false
   }
  },
  {
   "cell_type": "code",
   "execution_count": 36,
   "outputs": [],
   "source": [
    "PREPROCESSED_FILE = 'ecthr_a.pkl'\n",
    "MAX_TOKEN_LENGTH = 128\n",
    "RAW_DATA_FILE = ['ecthr-train.jsonl', 'ecthr-dev.jsonl', 'ecthr-test.jsonl']\n",
    "ID_HELD_OUT = 0.2\n",
    "GROUP = 1"
   ],
   "metadata": {
    "collapsed": false,
    "ExecuteTime": {
     "end_time": "2023-11-23T18:13:26.015613Z",
     "start_time": "2023-11-23T18:13:25.995234Z"
    }
   }
  },
  {
   "cell_type": "code",
   "execution_count": 42,
   "outputs": [
    {
     "name": "stderr",
     "output_type": "stream",
     "text": [
      "/var/folders/q2/1cpqcsg57hvbmp5m3k_76c000000gn/T/ipykernel_36701/963854241.py:22: SettingWithCopyWarning: \n",
      "A value is trying to be set on a copy of a slice from a DataFrame\n",
      "\n",
      "See the caveats in the documentation: https://pandas.pydata.org/pandas-docs/stable/user_guide/indexing.html#returning-a-view-versus-a-copy\n",
      "  base_df.iloc[i, 7] = new_label\n"
     ]
    }
   ],
   "source": [
    "base_dfs = []\n",
    "for path in RAW_DATA_FILE:\n",
    "    raw_data_path = os.path.join(args.data_dir, path)\n",
    "    if not os.path.isfile(raw_data_path):\n",
    "        raise ValueError(f'{path} is not in the data directory {args.data_dir}!')\n",
    "    base_dfs.append(pd.read_json(raw_data_path, lines=True))\n",
    "# Load data frame from json file, group by year\n",
    "# base_df = pd.concat(base_dfs)\n",
    "base_dfs[0] = base_dfs[0].sort_values(by=['judgment_date'])\n",
    "\n",
    "dfs = [base_dfs[0][:4500], base_dfs[0][4500:], base_dfs[1], base_dfs[2]]\n",
    "\n",
    "# allowed = ['10', '11', '13', '14', '2', '3', '5', '6', '7', '8', '9', 'P1-1', 'P1-3', 'P4-2']\n",
    "allowed = ['10', '11', '13', '14', '18', '2', '3', '4', '5', '6', '7', '8', '9', 'P1-1', 'P4-2', 'P7-1', 'P7-4']\n",
    "all_dfs = []\n",
    "for base_df in dfs:\n",
    "    for i in range(len(base_df)):\n",
    "        new_label = []\n",
    "        for label in base_df.iloc[i, 7]:\n",
    "            if label in allowed:\n",
    "                new_label.append(label)\n",
    "        base_df.iloc[i, 7] = new_label\n",
    "    all_dfs.append(base_df)\n",
    "# base_df['year'] = pd.DatetimeIndex(base_df['judgment_date']).year\n",
    "# df_years = base_df.groupby(pd.Grouper(key='year'))\n",
    "# all_dfs = [group for _, group in df_years]"
   ],
   "metadata": {
    "collapsed": false,
    "ExecuteTime": {
     "end_time": "2023-11-23T18:16:09.030112Z",
     "start_time": "2023-11-23T18:16:06.947658Z"
    }
   }
  },
  {
   "cell_type": "code",
   "execution_count": 43,
   "outputs": [
    {
     "data": {
      "text/plain": "{0: '10',\n 1: '11',\n 2: '13',\n 3: '14',\n 4: '18',\n 5: '2',\n 6: '3',\n 7: '4',\n 8: '5',\n 9: '6',\n 10: '7',\n 11: '8',\n 12: '9',\n 13: 'P1-1',\n 14: 'P4-2',\n 15: 'P7-1',\n 16: 'P7-4'}"
     },
     "execution_count": 43,
     "metadata": {},
     "output_type": "execute_result"
    }
   ],
   "source": [
    "categories_to_classids = {category: classid for classid, category in\n",
    "                              enumerate(sorted(list(set([i for sublist in all_dfs[0]['allegedly_violated_articles'] for i in sublist]))))}\n",
    "classids_to_categories = {v: k for k, v in categories_to_classids.items()}\n",
    "classids_to_categories"
   ],
   "metadata": {
    "collapsed": false,
    "ExecuteTime": {
     "end_time": "2023-11-23T18:16:19.874698Z",
     "start_time": "2023-11-23T18:16:19.851443Z"
    }
   }
  },
  {
   "cell_type": "code",
   "execution_count": 44,
   "outputs": [
    {
     "name": "stdout",
     "output_type": "stream",
     "text": [
      "10\n",
      "11\n",
      "13\n",
      "14\n",
      "18\n",
      "2\n",
      "3\n",
      "4\n",
      "5\n",
      "6\n",
      "7\n",
      "8\n",
      "9\n",
      "P1-1\n",
      "P4-2\n",
      "P7-1\n",
      "P7-4\n"
     ]
    }
   ],
   "source": [
    "m = None\n",
    "n = None\n",
    "for l in range(17):\n",
    "    print(classids_to_categories[l])\n",
    "    dfs = [i.copy() for i in all_dfs]\n",
    "    for i in range(4):\n",
    "        keep = []\n",
    "        for j in range(len(dfs[i])):\n",
    "            if classids_to_categories[l] in dfs[i].iloc[j, 7]:\n",
    "                keep.append(j)\n",
    "        if len(keep) == 0:\n",
    "            keep = [0]\n",
    "        dfs[i] = dfs[i].iloc[keep, :]\n",
    "\n",
    "    labels_counts = {}\n",
    "    for i in range(4):\n",
    "        dfs[i]['body'] = dfs[i]['facts'].apply(' '.join)\n",
    "        dfs[i]['tokenized'] = dfs[i]['body'].apply(tokenizer.tokenize)\n",
    "        labels = [label for lbs in dfs[i]['tokenized'] for label in lbs]\n",
    "        all_labels = [w for w in labels if not w in remove_these]\n",
    "        labels_count = Counter(all_labels)\n",
    "        labels_counts[i+1] = labels_count\n",
    "\n",
    "    mat = []\n",
    "    for k1, p in labels_counts.items():\n",
    "        sub = []\n",
    "        for k2, q in labels_counts.items():\n",
    "            kl_pq = jaccard_set(p.keys(), q.keys())\n",
    "            sub.append(kl_pq)\n",
    "        mat.append(sub)\n",
    "    if m is None:\n",
    "        m = np.round(mat, 4)\n",
    "    else:\n",
    "        m = np.concatenate((m, np.round(mat, 4)), axis=0)\n",
    "\n",
    "    allowed = labels_counts[1].keys() & labels_counts[2].keys() & labels_counts[3].keys() & labels_counts[4].keys()\n",
    "\n",
    "    for i in range(4):\n",
    "        entries_to_remove = labels_counts[i+1].keys() - allowed\n",
    "        for k in entries_to_remove:\n",
    "            labels_counts[i+1].pop(k, None)\n",
    "        od = collections.OrderedDict(sorted(labels_counts[i+1].items()))\n",
    "        labels_counts[i+1] = list(od.values())\n",
    "\n",
    "    mat = []\n",
    "    for k1, p in labels_counts.items():\n",
    "        sub = []\n",
    "        for k2, q in labels_counts.items():\n",
    "            p = np.asarray(p)\n",
    "            q = np.asarray(q)\n",
    "            kl_pq = jensenshannon(p, q, base=2)\n",
    "            sub.append(kl_pq)\n",
    "        mat.append(sub)\n",
    "\n",
    "    if n is None:\n",
    "        n = np.round(mat, 4)\n",
    "    else:\n",
    "        n = np.concatenate((n, np.round(mat, 4)), axis=0)"
   ],
   "metadata": {
    "collapsed": false,
    "ExecuteTime": {
     "end_time": "2023-11-23T18:16:47.311128Z",
     "start_time": "2023-11-23T18:16:27.480940Z"
    }
   }
  },
  {
   "cell_type": "code",
   "execution_count": 46,
   "outputs": [
    {
     "data": {
      "text/plain": "array([[1.    , 0.3655, 0.2948, 0.3181],\n       [0.3655, 1.    , 0.3269, 0.3433],\n       [0.2948, 0.3269, 1.    , 0.3491],\n       [0.3181, 0.3433, 0.3491, 1.    ],\n       [1.    , 0.3931, 0.3012, 0.3424],\n       [0.3931, 1.    , 0.2967, 0.3315],\n       [0.3012, 0.2967, 1.    , 0.3693],\n       [0.3424, 0.3315, 0.3693, 1.    ],\n       [1.    , 0.3676, 0.2464, 0.272 ],\n       [0.3676, 1.    , 0.2667, 0.2905],\n       [0.2464, 0.2667, 1.    , 0.3847],\n       [0.272 , 0.2905, 0.3847, 1.    ],\n       [1.    , 0.3792, 0.2425, 0.2343],\n       [0.3792, 1.    , 0.276 , 0.2653],\n       [0.2425, 0.276 , 1.    , 0.3732],\n       [0.2343, 0.2653, 0.3732, 1.    ],\n       [1.    , 0.3204, 0.2144, 0.2884],\n       [0.3204, 1.    , 0.2886, 0.3266],\n       [0.2144, 0.2886, 1.    , 0.304 ],\n       [0.2884, 0.3266, 0.304 , 1.    ],\n       [1.    , 0.3728, 0.3159, 0.3017],\n       [0.3728, 1.    , 0.3039, 0.2849],\n       [0.3159, 0.3039, 1.    , 0.3944],\n       [0.3017, 0.2849, 0.3944, 1.    ],\n       [1.    , 0.3663, 0.3421, 0.3304],\n       [0.3663, 1.    , 0.3   , 0.2902],\n       [0.3421, 0.3   , 1.    , 0.4107],\n       [0.3304, 0.2902, 0.4107, 1.    ],\n       [1.    , 0.2436, 0.2435, 0.2348],\n       [0.2436, 1.    , 0.2855, 0.2534],\n       [0.2435, 0.2855, 1.    , 0.2706],\n       [0.2348, 0.2534, 0.2706, 1.    ],\n       [1.    , 0.3816, 0.334 , 0.3333],\n       [0.3816, 1.    , 0.306 , 0.305 ],\n       [0.334 , 0.306 , 1.    , 0.3983],\n       [0.3333, 0.305 , 0.3983, 1.    ],\n       [1.    , 0.3554, 0.2745, 0.2824],\n       [0.3554, 1.    , 0.302 , 0.3074],\n       [0.2745, 0.302 , 1.    , 0.3932],\n       [0.2824, 0.3074, 0.3932, 1.    ],\n       [1.    , 0.3298, 0.262 , 0.2794],\n       [0.3298, 1.    , 0.2594, 0.2729],\n       [0.262 , 0.2594, 1.    , 0.3353],\n       [0.2794, 0.2729, 0.3353, 1.    ],\n       [1.    , 0.3664, 0.3348, 0.3449],\n       [0.3664, 1.    , 0.3055, 0.321 ],\n       [0.3348, 0.3055, 1.    , 0.4059],\n       [0.3449, 0.321 , 0.4059, 1.    ],\n       [1.    , 0.3759, 0.2781, 0.2888],\n       [0.3759, 1.    , 0.2801, 0.302 ],\n       [0.2781, 0.2801, 1.    , 0.2808],\n       [0.2888, 0.302 , 0.2808, 1.    ],\n       [1.    , 0.364 , 0.2928, 0.3197],\n       [0.364 , 1.    , 0.2782, 0.3017],\n       [0.2928, 0.2782, 1.    , 0.3841],\n       [0.3197, 0.3017, 0.3841, 1.    ],\n       [1.    , 0.354 , 0.3068, 0.2937],\n       [0.354 , 1.    , 0.2944, 0.2983],\n       [0.3068, 0.2944, 1.    , 0.2964],\n       [0.2937, 0.2983, 0.2964, 1.    ],\n       [1.    , 0.1521, 0.2604, 0.1631],\n       [0.1521, 1.    , 0.204 , 0.2139],\n       [0.2604, 0.204 , 1.    , 0.225 ],\n       [0.1631, 0.2139, 0.225 , 1.    ],\n       [1.    , 0.2664, 0.2648, 0.257 ],\n       [0.2664, 1.    , 0.2709, 0.2645],\n       [0.2648, 0.2709, 1.    , 0.2674],\n       [0.257 , 0.2645, 0.2674, 1.    ]])"
     },
     "execution_count": 46,
     "metadata": {},
     "output_type": "execute_result"
    }
   ],
   "source": [
    "m"
   ],
   "metadata": {
    "collapsed": false,
    "ExecuteTime": {
     "end_time": "2023-11-23T18:17:32.177576Z",
     "start_time": "2023-11-23T18:17:32.171644Z"
    }
   }
  },
  {
   "cell_type": "code",
   "execution_count": null,
   "outputs": [],
   "source": [
    "import matplotlib.pyplot as plt\n",
    "\n",
    "for k, v in labels_counts.items():\n",
    "    plt.plot(range(0, len(v)), v, '.-', label=k)\n",
    "    # NOTE: changed `range(1, 4)` to mach actual values count\n",
    "plt.legend()  # To draw legend\n",
    "plt.show()"
   ],
   "metadata": {
    "collapsed": false
   }
  },
  {
   "cell_type": "markdown",
   "source": [
    "# EURLEX"
   ],
   "metadata": {
    "collapsed": false
   }
  },
  {
   "cell_type": "code",
   "execution_count": 55,
   "outputs": [
    {
     "name": "stderr",
     "output_type": "stream",
     "text": [
      "Found cached dataset multi_eurlex (/Users/luke/.cache/huggingface/datasets/multi_eurlex/default-label_level=level_1,language=en/1.0.0/5a12a7463045d4dcb12896b478c09b5a8a131a02b7e7bce059ba7ececc6584ee)\n"
     ]
    },
    {
     "data": {
      "text/plain": "  0%|          | 0/3 [00:00<?, ?it/s]",
      "application/vnd.jupyter.widget-view+json": {
       "version_major": 2,
       "version_minor": 0,
       "model_id": "f9579554d35543438b85937d45a377d5"
      }
     },
     "metadata": {},
     "output_type": "display_data"
    }
   ],
   "source": [
    "from datasets import load_dataset\n",
    "dataset = load_dataset('multi_eurlex', language='en', label_level='level_1')"
   ],
   "metadata": {
    "collapsed": false,
    "ExecuteTime": {
     "end_time": "2023-11-23T18:30:15.063217Z",
     "start_time": "2023-11-23T18:30:13.557032Z"
    }
   }
  },
  {
   "cell_type": "code",
   "execution_count": 56,
   "outputs": [],
   "source": [
    "import re\n",
    "all_dfs = []\n",
    "\n",
    "splits = ['train', 'validation', 'test']\n",
    "for x in splits:\n",
    "    df = pd.DataFrame(columns=['celex_id', 'text', 'labels', 'year'])\n",
    "    for i in dataset[x]:\n",
    "        valid_months = [\"January\", \"February\", \"March\", \"April\", \"May\", \"June\", \"July\", \"August\", \"September\",\n",
    "                        \"October\", \"November\", \"December\"]\n",
    "        pattern = r'(\\d{1,2})\\s*(' + '|'.join(valid_months) + ')\\s*(\\d{4})'\n",
    "        # matches = list(re.finditer(pattern, i['title'], re.IGNORECASE))\n",
    "\n",
    "        # if len(matches) > 0:\n",
    "        #     year = matches[0].group(3)\n",
    "        # else:\n",
    "        #\n",
    "        matches = list(re.finditer(pattern, i['text'], re.IGNORECASE))\n",
    "        if len(matches) > 0:\n",
    "            year = matches[0].group(3)\n",
    "        # else:\n",
    "            # print(i['celex_id'], i['text'][:100], '\\n')\n",
    "        elif i['celex_id'] == '31988R0091':\n",
    "            year = 1988\n",
    "        elif i['celex_id'] in ['31987D0594', '31987D0593']:\n",
    "            year = 1987\n",
    "\n",
    "        df.loc[len(df)] = list(i.values()) + [int(year)]\n",
    "    df = df.sort_values(by=['year'])\n",
    "    if x == 'train':\n",
    "        all_dfs += [df[:27500], df[27500:]]\n",
    "    else:\n",
    "        all_dfs.append(df)\n",
    "\n",
    "# categories_to_classids = {category: classid for classid, category in\n",
    "#                               enumerate(sorted(list(set([i for sublist in all_dfs[1]['labels'] for i in sublist]))))}\n",
    "# classids_to_categories = {v: k for k, v in categories_to_classids.items()}\n"
   ],
   "metadata": {
    "collapsed": false,
    "ExecuteTime": {
     "end_time": "2023-11-23T18:33:05.925609Z",
     "start_time": "2023-11-23T18:30:16.216196Z"
    }
   }
  },
  {
   "cell_type": "code",
   "execution_count": 57,
   "outputs": [
    {
     "data": {
      "text/plain": "{0: 0,\n 1: 1,\n 2: 2,\n 3: 3,\n 4: 4,\n 5: 5,\n 6: 6,\n 7: 7,\n 8: 8,\n 9: 9,\n 10: 10,\n 11: 11,\n 12: 12,\n 13: 13,\n 14: 14,\n 15: 15,\n 16: 16,\n 17: 17,\n 18: 18,\n 19: 19,\n 20: 20}"
     },
     "execution_count": 57,
     "metadata": {},
     "output_type": "execute_result"
    }
   ],
   "source": [
    "categories_to_classids = {category: classid for classid, category in\n",
    "                              enumerate(sorted(list(set([i for sublist in all_dfs[1]['labels'] for i in sublist]))))}\n",
    "classids_to_categories = {v: k for k, v in categories_to_classids.items()}\n",
    "classids_to_categories"
   ],
   "metadata": {
    "collapsed": false,
    "ExecuteTime": {
     "end_time": "2023-11-23T18:33:05.946398Z",
     "start_time": "2023-11-23T18:33:05.942402Z"
    }
   }
  },
  {
   "cell_type": "code",
   "execution_count": 58,
   "outputs": [
    {
     "name": "stdout",
     "output_type": "stream",
     "text": [
      "0\n",
      "1\n",
      "2\n",
      "3\n",
      "4\n",
      "5\n",
      "6\n",
      "7\n",
      "8\n",
      "9\n",
      "10\n",
      "11\n",
      "12\n",
      "13\n",
      "14\n",
      "15\n",
      "16\n",
      "17\n",
      "18\n",
      "19\n",
      "20\n"
     ]
    }
   ],
   "source": [
    "m = None\n",
    "n = None\n",
    "for l in range(21):\n",
    "    print(classids_to_categories[l])\n",
    "    dfs = [i.copy() for i in all_dfs]\n",
    "    for i in range(4):\n",
    "        keep = []\n",
    "        for j in range(len(dfs[i])):\n",
    "            if classids_to_categories[l] in dfs[i].iloc[j, 2]:\n",
    "                keep.append(j)\n",
    "        if len(keep) == 0:\n",
    "            keep = [0]\n",
    "        dfs[i] = dfs[i].iloc[keep, :]\n",
    "\n",
    "    labels_counts = {}\n",
    "    for i in range(4):\n",
    "        dfs[i]['tokenized'] = dfs[i]['text'].apply(tokenizer.tokenize)\n",
    "        labels = [label for lbs in dfs[i]['tokenized'] for label in lbs]\n",
    "        all_labels = [w for w in labels if not w in remove_these]\n",
    "        labels_count = Counter(all_labels)\n",
    "        labels_counts[i+1] = labels_count\n",
    "\n",
    "    mat = []\n",
    "    for k1, p in labels_counts.items():\n",
    "        sub = []\n",
    "        for k2, q in labels_counts.items():\n",
    "            kl_pq = jaccard_set(p.keys(), q.keys())\n",
    "            sub.append(kl_pq)\n",
    "        mat.append(sub)\n",
    "    if m is None:\n",
    "        m = np.round(mat, 4)\n",
    "    else:\n",
    "        m = np.concatenate((m, np.round(mat, 4)), axis=0)\n",
    "\n",
    "    allowed = labels_counts[1].keys() & labels_counts[2].keys() & labels_counts[3].keys() & labels_counts[4].keys()\n",
    "\n",
    "    for i in range(4):\n",
    "        entries_to_remove = labels_counts[i+1].keys() - allowed\n",
    "        for k in entries_to_remove:\n",
    "            labels_counts[i+1].pop(k, None)\n",
    "        od = collections.OrderedDict(sorted(labels_counts[i+1].items()))\n",
    "        labels_counts[i+1] = list(od.values())\n",
    "\n",
    "    mat = []\n",
    "    for k1, p in labels_counts.items():\n",
    "        sub = []\n",
    "        for k2, q in labels_counts.items():\n",
    "            p = np.asarray(p)\n",
    "            q = np.asarray(q)\n",
    "            kl_pq = jensenshannon(p, q, base=2)\n",
    "            sub.append(kl_pq)\n",
    "        mat.append(sub)\n",
    "\n",
    "    if n is None:\n",
    "        n = np.round(mat, 4)\n",
    "    else:\n",
    "        n = np.concatenate((n, np.round(mat, 4)), axis=0)"
   ],
   "metadata": {
    "collapsed": false,
    "ExecuteTime": {
     "end_time": "2023-11-23T18:35:28.404522Z",
     "start_time": "2023-11-23T18:33:05.952962Z"
    }
   }
  },
  {
   "cell_type": "code",
   "execution_count": 60,
   "outputs": [
    {
     "data": {
      "text/plain": "array([[1.    , 0.3631, 0.3211, 0.3252],\n       [0.3631, 1.    , 0.3699, 0.3646],\n       [0.3211, 0.3699, 1.    , 0.461 ],\n       [0.3252, 0.3646, 0.461 , 1.    ],\n       [1.    , 0.3335, 0.2473, 0.249 ],\n       [0.3335, 1.    , 0.3049, 0.2984],\n       [0.2473, 0.3049, 1.    , 0.4674],\n       [0.249 , 0.2984, 0.4674, 1.    ],\n       [1.    , 0.3911, 0.3337, 0.3365],\n       [0.3911, 1.    , 0.3687, 0.3888],\n       [0.3337, 0.3687, 1.    , 0.4998],\n       [0.3365, 0.3888, 0.4998, 1.    ],\n       [1.    , 0.3326, 0.2378, 0.2551],\n       [0.3326, 1.    , 0.2914, 0.3111],\n       [0.2378, 0.2914, 1.    , 0.4341],\n       [0.2551, 0.3111, 0.4341, 1.    ],\n       [1.    , 0.3343, 0.2646, 0.2616],\n       [0.3343, 1.    , 0.2752, 0.2667],\n       [0.2646, 0.2752, 1.    , 0.4593],\n       [0.2616, 0.2667, 0.4593, 1.    ],\n       [1.    , 0.3847, 0.3248, 0.3426],\n       [0.3847, 1.    , 0.3302, 0.3638],\n       [0.3248, 0.3302, 1.    , 0.4894],\n       [0.3426, 0.3638, 0.4894, 1.    ],\n       [1.    , 0.3639, 0.2374, 0.2629],\n       [0.3639, 1.    , 0.3093, 0.3332],\n       [0.2374, 0.3093, 1.    , 0.4812],\n       [0.2629, 0.3332, 0.4812, 1.    ],\n       [1.    , 0.3893, 0.319 , 0.3445],\n       [0.3893, 1.    , 0.3694, 0.401 ],\n       [0.319 , 0.3694, 1.    , 0.4655],\n       [0.3445, 0.401 , 0.4655, 1.    ],\n       [1.    , 0.3847, 0.3419, 0.364 ],\n       [0.3847, 1.    , 0.3622, 0.3995],\n       [0.3419, 0.3622, 1.    , 0.4716],\n       [0.364 , 0.3995, 0.4716, 1.    ],\n       [1.    , 0.3643, 0.2812, 0.3365],\n       [0.3643, 1.    , 0.3282, 0.3826],\n       [0.2812, 0.3282, 1.    , 0.4605],\n       [0.3365, 0.3826, 0.4605, 1.    ],\n       [1.    , 0.4031, 0.3528, 0.3688],\n       [0.4031, 1.    , 0.425 , 0.4651],\n       [0.3528, 0.425 , 1.    , 0.4729],\n       [0.3688, 0.4651, 0.4729, 1.    ],\n       [1.    , 0.378 , 0.3211, 0.3205],\n       [0.378 , 1.    , 0.3896, 0.3948],\n       [0.3211, 0.3896, 1.    , 0.5187],\n       [0.3205, 0.3948, 0.5187, 1.    ],\n       [1.    , 0.3587, 0.3151, 0.2997],\n       [0.3587, 1.    , 0.353 , 0.3352],\n       [0.3151, 0.353 , 1.    , 0.4816],\n       [0.2997, 0.3352, 0.4816, 1.    ],\n       [1.    , 0.4583, 0.3225, 0.3474],\n       [0.4583, 1.    , 0.3458, 0.3806],\n       [0.3225, 0.3458, 1.    , 0.4319],\n       [0.3474, 0.3806, 0.4319, 1.    ],\n       [1.    , 0.3926, 0.3766, 0.3991],\n       [0.3926, 1.    , 0.3422, 0.3738],\n       [0.3766, 0.3422, 1.    , 0.4674],\n       [0.3991, 0.3738, 0.4674, 1.    ],\n       [1.    , 0.3436, 0.2731, 0.2781],\n       [0.3436, 1.    , 0.2968, 0.3044],\n       [0.2731, 0.2968, 1.    , 0.4633],\n       [0.2781, 0.3044, 0.4633, 1.    ],\n       [1.    , 0.341 , 0.1879, 0.2859],\n       [0.341 , 1.    , 0.2668, 0.3883],\n       [0.1879, 0.2668, 1.    , 0.3198],\n       [0.2859, 0.3883, 0.3198, 1.    ],\n       [1.    , 0.3547, 0.2203, 0.2127],\n       [0.3547, 1.    , 0.2966, 0.2855],\n       [0.2203, 0.2966, 1.    , 0.4573],\n       [0.2127, 0.2855, 0.4573, 1.    ],\n       [1.    , 0.3219, 0.2603, 0.2518],\n       [0.3219, 1.    , 0.286 , 0.2701],\n       [0.2603, 0.286 , 1.    , 0.4236],\n       [0.2518, 0.2701, 0.4236, 1.    ],\n       [1.    , 0.3616, 0.3279, 0.3287],\n       [0.3616, 1.    , 0.3323, 0.3211],\n       [0.3279, 0.3323, 1.    , 0.474 ],\n       [0.3287, 0.3211, 0.474 , 1.    ],\n       [1.    , 0.3759, 0.3496, 0.3411],\n       [0.3759, 1.    , 0.3934, 0.3865],\n       [0.3496, 0.3934, 1.    , 0.4627],\n       [0.3411, 0.3865, 0.4627, 1.    ]])"
     },
     "execution_count": 60,
     "metadata": {},
     "output_type": "execute_result"
    }
   ],
   "source": [
    "m"
   ],
   "metadata": {
    "collapsed": false,
    "ExecuteTime": {
     "end_time": "2023-11-23T18:36:22.879232Z",
     "start_time": "2023-11-23T18:36:22.874353Z"
    }
   }
  },
  {
   "cell_type": "code",
   "execution_count": null,
   "outputs": [],
   "source": [],
   "metadata": {
    "collapsed": false
   }
  }
 ],
 "metadata": {
  "kernelspec": {
   "display_name": "Python 3",
   "language": "python",
   "name": "python3"
  },
  "language_info": {
   "codemirror_mode": {
    "name": "ipython",
    "version": 2
   },
   "file_extension": ".py",
   "mimetype": "text/x-python",
   "name": "python",
   "nbconvert_exporter": "python",
   "pygments_lexer": "ipython2",
   "version": "2.7.6"
  }
 },
 "nbformat": 4,
 "nbformat_minor": 0
}
